{
  "cells": [
    {
      "cell_type": "code",
      "execution_count": 64,
      "id": "948be360-3631-4043-9590-4909dbcc3b32",
      "metadata": {
        "id": "948be360-3631-4043-9590-4909dbcc3b32"
      },
      "outputs": [],
      "source": [
        "ENSEIGNANTS_MATIERES = {\n",
        "    \"Abdelkrim LAHLOU\": [\"Infrastructure Technology\", \"Network\"],\n",
        "    \"Jihane MALI\": [\"NoSQL\", \"Machine Learning\"],\n",
        "    \"Hugo SANCHEZ\": [\"Infrastructure Technology\", \"Virtualization and Cloud\"],\n",
        "    \"Christophe RODRIGUES\": [\"Machine Learning\", \"Natural Language Processing\"],\n",
        "    \"Zeinab MHANNA\": [\"Network\", \"Network Security\", \"Cybersecurity\"],\n",
        "    \"Frédéric FAUBERTEAU\": [\"DevOps\", \"Containerization with Docker\"],\n",
        "    \"Youssef MAZLOUM\": [\"Computational Modeling\", \"Graph Databases\"],\n",
        "    \"Herbert GROSCOT\": [\"Applied Cryptography\", \"NoSQL Query Optimization\"],\n",
        "    \"Mohamed SOUILAH\": [\"Network\", \"Cybersecurity\"],\n",
        "    \"Tristant PINCEAUX\": [\"Forensic\", \"Image Recognition\"],\n",
        "    \"Maher REBAI\": [\"Datascience\", \"PTS\"],\n",
        "    \"Walter Peretti\": [\"Mobile Devices\", \"Mathematiques\"],\n",
        "    \"Imen OULED DLALA\": [\"Infrastructure Technology\", \"Datascience\"],\n",
        "    \"Aline ELLUL\": [\"Network Security\", \"Cybersecurity\"],\n",
        "    \"Guillaume GUERARD\": [\"DevOps\", \"Virtualization and Cloud\"],\n",
        "    \"Sophie DEPEYRE\": [\"Graph Databases\", \"Mathematiques\"],\n",
        "    \"Nancy CHENDEB\": [\"NoSQL\", \"Containerization with Docker\"],\n",
        "    \"Safouane CHENDEB\": [\"Computational Modeling\", \"Applied Cryptography\"],\n",
        "    \"Bérengère BRANCHET\": [\"Natural Language Processing\", \"Forensic\"],\n",
        "    \"Nédra MELLOULI\": [\"Machine Learning\", \"PTS\"],\n",
        "    \"Killian FOURNIER\" : [\"Python\", \"Mathematiques\"]\n",
        "}"
      ]
    },
    {
      "cell_type": "code",
      "execution_count": 65,
      "id": "f18d9462-919f-4922-89ea-6275e5038195",
      "metadata": {
        "id": "f18d9462-919f-4922-89ea-6275e5038195"
      },
      "outputs": [],
      "source": [
        "teachers = {\n",
        "    idx + 1: name\n",
        "    for idx, name in enumerate([\n",
        "        \"Abdelkrim LAHLOU\", \"Jihane MALI\", \"Hugo SANCHEZ\", \"Christophe RODRIGUES\",\n",
        "        \"Zeinab MHANNA\", \"Frédéric FAUBERTEAU\", \"Youssef MAZLOUM\",\n",
        "        \"Herbert GROSCOT\", \"Mohamed SOUILAH\", \"Tristant PINCEAUX\", \"Maher REBAI\",\n",
        "        \"Walter Peretti\", \"Imen OULED DLALA\", \"Aline ELLUL\", \"Guillaume GUERARD\", \"Sophie DEPEYRE\",\n",
        "        \"Nancy CHENDEB\", \"Safouane CHENDEB\", \"Bérengère BRANCHET\", \"Nédra MELLOULI\", \"Killian FOURNIER\"\n",
        "    ])\n",
        "}\n",
        "\n",
        "modules = {\n",
        "    idx + 1: name\n",
        "    for idx, name in enumerate([\n",
        "        \"Infrastructure Technology\", \"Network\", \"NoSQL\", \"Machine Learning\",\n",
        "        \"Virtualization and Cloud\", \"Natural Language Processing\",\n",
        "        \"Network Security\", \"Cybersecurity\", \"DevOps\", \"Containerization with Docker\",\n",
        "        \"Computational Modeling\", \"Graph Databases\", \"Applied Cryptography\",\n",
        "        \"NoSQL Query Optimization\", \"Forensic\", \"Image Recognition\", \"Datascience\",\n",
        "        \"PTS\", \"Mobile Devices\", \"Mathematiques\", \"Python\"\n",
        "    ])\n",
        "}\n",
        "\n",
        "rooms = {\n",
        "    idx + 1: f\"Salle_{101 + idx}\"\n",
        "    for idx in range(20)\n",
        "}"
      ]
    },
    {
      "cell_type": "code",
      "execution_count": 66,
      "id": "47c8967f",
      "metadata": {},
      "outputs": [],
      "source": [
        "def adjust_id(original_id):\n",
        "    \"\"\"\n",
        "    Ajuste l'identifiant en ajoutant un décalage basé sur la dizaine.\n",
        "    - Ajoute le premier chiffre des dizaines à partir de 10.\n",
        "    - Assure que les nombres de type x9 sont bien encodés.\n",
        "    \"\"\"\n",
        "    if original_id < 10:\n",
        "        return original_id  # Pas de décalage pour 1 à 9\n",
        "    \n",
        "    first_digit = original_id // 10  # Chiffre des dizaines\n",
        "    adjusted_id = original_id + first_digit  # Ajoute le décalage basé sur la dizaine\n",
        "    \n",
        "    return adjusted_id"
      ]
    },
    {
      "cell_type": "code",
      "execution_count": 67,
      "id": "34eecaff",
      "metadata": {
        "id": "34eecaff"
      },
      "outputs": [],
      "source": [
        "def encode_number(number):\n",
        "    \"\"\"\n",
        "    Encode un nombre en une chaîne de trois chiffres :\n",
        "    - Le premier chiffre représente les unités.\n",
        "    - Le deuxième chiffre représente les dizaines.\n",
        "    - Le troisième chiffre représente les centaines.\n",
        "    - Corrige les cas spécifiques des nombres de type x9.\n",
        "    - Remplace un 0 en première position par un 1.\n",
        "    \"\"\"\n",
        "    adjusted_number = adjust_id(number)\n",
        "    \n",
        "    # Conversion en unités, dizaines, centaines\n",
        "    units = adjusted_number % 10\n",
        "    tens = (adjusted_number // 10) % 10\n",
        "    hundreds = (adjusted_number // 100) % 10\n",
        "\n",
        "    # Éviter 0 en première position\n",
        "    if units == 0:\n",
        "        units = 1  # Remplace 0 par 1 pour éviter le 0 en premier\n",
        "\n",
        "    return f\"{units}{tens}{hundreds}\""
      ]
    },
    {
      "cell_type": "code",
      "execution_count": 68,
      "id": "20080f11",
      "metadata": {},
      "outputs": [],
      "source": [
        "def decode_number(encoded_str):\n",
        "    \"\"\"\n",
        "    Décode une chaîne encodée en trois chiffres pour retrouver l'identifiant original.\n",
        "    \"\"\"\n",
        "    units = int(encoded_str[0])\n",
        "    tens = int(encoded_str[1])\n",
        "    hundreds = int(encoded_str[2])\n",
        "\n",
        "    adjusted_number = units + (tens * 10) + (hundreds * 100)\n",
        "\n",
        "    if adjusted_number < 10:\n",
        "        return adjusted_number  # Aucun ajustement nécessaire pour 1 à 9\n",
        "\n",
        "    first_digit = adjusted_number // 10  # Chiffre des dizaines\n",
        "    original_id = adjusted_number - first_digit  # Inverse le décalage\n",
        "\n",
        "    return original_id"
      ]
    },
    {
      "cell_type": "code",
      "execution_count": 69,
      "id": "501a49e9",
      "metadata": {
        "id": "501a49e9"
      },
      "outputs": [],
      "source": [
        "\n",
        "def preprocess_constraints(teachers, modules, teacher_availability):\n",
        "    \"\"\"\n",
        "    Pré-traitement des contraintes pour associer professeurs, matières, et créneaux horaires.\n",
        "    \"\"\"\n",
        "    constraints = {}\n",
        "    for teacher, courses in ENSEIGNANTS_MATIERES.items():\n",
        "        available_slots = teacher_availability.get(teacher, {})\n",
        "        constraints[teacher] = {\n",
        "            \"courses\": courses,\n",
        "            \"slots\": available_slots\n",
        "        }\n",
        "    return constraints\n",
        "\n",
        "# Exemple d'utilisation :\n",
        "# constraints = preprocess_constraints(teachers, modules, teacher_availability)\n"
      ]
    },
    {
      "cell_type": "code",
      "execution_count": 70,
      "id": "xV2uyvJMAdj3",
      "metadata": {
        "id": "xV2uyvJMAdj3"
      },
      "outputs": [],
      "source": [
        "# Définition des créneaux horaires avec leur plage horaire\n",
        "heures_des_creneaux = {\n",
        "    1: \"08h00 - 11h00\",\n",
        "    2: \"11h00 - 14h00\",\n",
        "    3: \"14h00 - 17h00\",\n",
        "    4: \"17h00 - 20h00\"\n",
        "}"
      ]
    },
    {
      "cell_type": "code",
      "execution_count": 71,
      "id": "KitA4EjIAaw8",
      "metadata": {
        "id": "KitA4EjIAaw8"
      },
      "outputs": [],
      "source": [
        "def encode(teacher_id, group_id, module_id, room_id, slot_id):\n",
        "    \"\"\"\n",
        "    Encode les IDs en une chaîne encodée avec la structure spécifiée, incluant les créneaux horaires.\n",
        "    \"\"\"\n",
        "    teacher_name = teachers.get(teacher_id, None)\n",
        "    module_name = modules.get(module_id, None)\n",
        "\n",
        "    # Vérification des contraintes : les erreurs pour les matières sont ignorées\n",
        "    if teacher_name is None:\n",
        "        teacher_name = \"Professeur inconnu\"\n",
        "    if module_name is None or module_name not in ENSEIGNANTS_MATIERES.get(teacher_name, []):\n",
        "        module_name = \"Matière non associée\"\n",
        "\n",
        "    # Encodage\n",
        "    teacher_code = encode_number(teacher_id)\n",
        "    group_code = encode_number(group_id)\n",
        "    module_code = encode_number(module_id)\n",
        "    room_code = encode_number(room_id)\n",
        "    slot_code = encode_number(slot_id)  # Encodage du créneau\n",
        "\n",
        "    return f\"{teacher_code} {group_code} {module_code} {room_code} {slot_code}\"\n",
        "\n",
        "def decode(encoded_str):\n",
        "    \"\"\"\n",
        "    Décode une chaîne encodée incluant les créneaux en un dictionnaire détaillé.\n",
        "    \"\"\"\n",
        "    try:\n",
        "        parts = encoded_str.split()\n",
        "        teacher_id = decode_number(parts[0])\n",
        "        group_id = decode_number(parts[1])\n",
        "        module_id = decode_number(parts[2])\n",
        "        room_id = decode_number(parts[3])\n",
        "        slot_id = decode_number(parts[4])  # Décodage du créneau\n",
        "\n",
        "        # Récupération des noms\n",
        "        teacher_name = teachers.get(teacher_id, f\"Professeur {teacher_id}\")\n",
        "        module_name = modules.get(module_id, f\"Module {module_id}\")\n",
        "        room_name = rooms.get(room_id, f\"Salle_{room_id + 100}\")\n",
        "        slot_time = heures_des_creneaux.get(slot_id, \"Créneau inconnu\")\n",
        "\n",
        "        # Résultat final\n",
        "        return {\n",
        "            \"ID du professeur\": teacher_id,\n",
        "            \"Nom du professeur\": teacher_name,\n",
        "            \"Groupe de TD\": group_id,\n",
        "            \"ID Module\": module_id,\n",
        "            \"Nom du module\": module_name,\n",
        "            \"ID Salle\": room_id,\n",
        "            \"Numéro de salle\": room_name,\n",
        "            \"ID Créneau\": slot_id,\n",
        "            \"Plage horaire\": slot_time\n",
        "        }\n",
        "\n",
        "    except IndexError:\n",
        "        raise ValueError(\"La chaîne encodée est invalide ou corrompue.\")\n"
      ]
    },
    {
      "cell_type": "code",
      "execution_count": 1,
      "id": "MFToXLrBAlVb",
      "metadata": {
        "colab": {
          "base_uri": "https://localhost:8080/"
        },
        "id": "MFToXLrBAlVb",
        "outputId": "543f5710-87e2-438b-8835-f5181958e7d8"
      },
      "outputs": [
        {
          "ename": "NameError",
          "evalue": "name 'encode' is not defined",
          "output_type": "error",
          "traceback": [
            "\u001b[1;31m---------------------------------------------------------------------------\u001b[0m",
            "\u001b[1;31mNameError\u001b[0m                                 Traceback (most recent call last)",
            "Cell \u001b[1;32mIn[1], line 2\u001b[0m\n\u001b[0;32m      1\u001b[0m \u001b[38;5;28;01mif\u001b[39;00m \u001b[38;5;18m__name__\u001b[39m \u001b[38;5;241m==\u001b[39m \u001b[38;5;124m\"\u001b[39m\u001b[38;5;124m__main__\u001b[39m\u001b[38;5;124m\"\u001b[39m:\n\u001b[1;32m----> 2\u001b[0m     encoded \u001b[38;5;241m=\u001b[39m \u001b[43mencode\u001b[49m(\u001b[38;5;241m19\u001b[39m, \u001b[38;5;241m1\u001b[39m, \u001b[38;5;241m1\u001b[39m, \u001b[38;5;241m3\u001b[39m,\u001b[38;5;241m4\u001b[39m)  \u001b[38;5;66;03m# Prof 1, Groupe 1, Module 1, Salle 32\u001b[39;00m\n\u001b[0;32m      3\u001b[0m     \u001b[38;5;28mprint\u001b[39m(\u001b[38;5;124m\"\u001b[39m\u001b[38;5;124mgêne encodé:\u001b[39m\u001b[38;5;124m\"\u001b[39m, encoded)\n\u001b[0;32m      4\u001b[0m     decoded \u001b[38;5;241m=\u001b[39m decode(encoded)\n",
            "\u001b[1;31mNameError\u001b[0m: name 'encode' is not defined"
          ]
        }
      ],
      "source": [
        "if __name__ == \"__main__\":\n",
        "    encoded = encode(19, 1, 1, 3,4)  # Prof 1, Groupe 1, Module 1, Salle 32\n",
        "    print(\"gêne encodé:\", encoded)\n",
        "    decoded = decode(encoded)\n",
        "    print(\"gêne décodé:\", decoded)"
      ]
    },
    {
      "cell_type": "code",
      "execution_count": null,
      "id": "vbLVks9S5uoZ",
      "metadata": {
        "colab": {
          "base_uri": "https://localhost:8080/"
        },
        "id": "vbLVks9S5uoZ",
        "outputId": "a53ac478-e92e-411a-db85-e1fd9211c59c"
      },
      "outputs": [
        {
          "name": "stdout",
          "output_type": "stream",
          "text": [
            "Partie encodée  Format attendu                                     Exemple encodé      \n",
            "------------------------------------------------------------------------------------------\n",
            "Professeur      XXX (centaine dizaine unité avec +1 pour les dizaines) 120 (Prof 21)       \n",
            "Groupe          XXX (centaine dizaine unité avec +1 pour les dizaines) 110 (Groupe 11)     \n",
            "Module          XXX (centaine dizaine unité avec +1 pour les dizaines) 210 (Module 20)     \n",
            "Salle           XXX (centaine dizaine unité avec +1 pour les dizaines) 130 (Salle 13)      \n",
            "Créneau         XXX (centaine dizaine unité avec +1 pour les dizaines) 110 (Créneau 1 : 08h00 - 11h00)\n"
          ]
        }
      ],
      "source": [
        "def afficher_recap_encodage():\n",
        "    # Définition des créneaux horaires pour vérification\n",
        "    heures_des_creneaux = {\n",
        "        1: \"08h00 - 11h00\",\n",
        "        2: \"11h00 - 14h00\",\n",
        "        3: \"14h00 - 17h00\",\n",
        "        4: \"17h00 - 20h00\"\n",
        "    }\n",
        "\n",
        "    # Données de récapitulation pour l'affichage\n",
        "    recap_data = {\n",
        "        \"Partie encodée\": [\"Professeur\", \"Groupe\", \"Module\", \"Salle\", \"Créneau\"],\n",
        "        \"Format attendu\": [\n",
        "            \"XXX (unité dizaine centaine avec +1 pour les dizaines)\",\n",
        "            \"XXX (unité dizaine centaine avec +1 pour les dizaines)\",\n",
        "            \"XXX (unité dizaine centaine avec +1 pour les dizaines)\",\n",
        "            \"XXX (unité dizaine centaine avec +1 pour les dizaines)\",\n",
        "            \"XXX (unité dizaine centaine avec +1 pour les dizaines)\"\n",
        "        ],\n",
        "        \"Exemple encodé\": [\n",
        "            \"120 (Prof 21)\",  # Professeur ID 21 -> encode_number applique le décalage\n",
        "            \"110 (Groupe 11)\",  # Groupe ID 11\n",
        "            \"210 (Module 20)\",  # Module ID 20\n",
        "            \"130 (Salle 13)\",  # Salle ID 13\n",
        "            f\"110 (Créneau 1 : {heures_des_creneaux.get(1, 'Plage inconnue')})\"  # Créneau 1 avec plage dynamique\n",
        "        ]\n",
        "    }\n",
        "\n",
        "    # Afficher le tableau avec un formatage clair\n",
        "    print(\"{:<15} {:<50} {:<20}\".format(\"Partie encodée\", \"Format attendu\", \"Exemple encodé\"))\n",
        "    print(\"-\" * 90)\n",
        "    for partie, format_attendu, exemple in zip(\n",
        "        recap_data[\"Partie encodée\"],\n",
        "        recap_data[\"Format attendu\"],\n",
        "        recap_data[\"Exemple encodé\"]\n",
        "    ):\n",
        "        print(\"{:<15} {:<50} {:<20}\".format(partie, format_attendu, exemple))\n",
        "\n",
        "# Appel de la fonction pour afficher les résultats\n",
        "afficher_recap_encodage()"
      ]
    }
  ],
  "metadata": {
    "colab": {
      "provenance": []
    },
    "kernelspec": {
      "display_name": "base",
      "language": "python",
      "name": "python3"
    },
    "language_info": {
      "codemirror_mode": {
        "name": "ipython",
        "version": 3
      },
      "file_extension": ".py",
      "mimetype": "text/x-python",
      "name": "python",
      "nbconvert_exporter": "python",
      "pygments_lexer": "ipython3",
      "version": "3.10.9"
    }
  },
  "nbformat": 4,
  "nbformat_minor": 5
}
